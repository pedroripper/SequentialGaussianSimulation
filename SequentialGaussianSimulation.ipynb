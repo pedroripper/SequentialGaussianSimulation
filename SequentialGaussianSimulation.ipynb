{
  "nbformat": 4,
  "nbformat_minor": 0,
  "metadata": {
    "colab": {
      "name": "SequentialGaussianSimulation.ipynb",
      "provenance": []
    },
    "kernelspec": {
      "name": "python3",
      "display_name": "Python 3"
    }
  },
  "cells": [
    {
      "cell_type": "code",
      "metadata": {
        "id": "f_eraLNqeCge",
        "colab_type": "code",
        "colab": {
          "base_uri": "https://localhost:8080/",
          "height": 1000
        },
        "outputId": "e045d664-2875-48b4-d486-854845926ebf"
      },
      "source": [
        "from __future__ import division\n",
        "import numpy as np\n",
        "import matplotlib.pyplot as plt\n",
        "import random as rd\n",
        "import seaborn as sns\n",
        "\n",
        "def SequentialGaussianSimulation(dados,blocos,p):\n",
        "    resultado = np.zeros(blocos)\n",
        "    dados = np.array(dados) # Sao os dados inciais da matriz\n",
        "    w = blocos[0] * blocos[1] # w eh o numero de elementos da matriz\n",
        "    v = [] # Vetor no qual sera sorteada a ordem de preenchimento da matriz\n",
        "    m = blocos[0] # m eh o numero de linhas\n",
        "    n = blocos[1] # n eh o numero de colunas\n",
        "\n",
        "    # V sera preenchido e permutado\n",
        "    for i in range (w):\n",
        "      v.append(i)\n",
        "    rd.shuffle(v)\n",
        "\n",
        "    # interpolacao de Sherpard\n",
        "    for i in range (w):\n",
        "      x = int(v[i]/m)\n",
        "      if v[i] == 0:\n",
        "        y = 0 \n",
        "      else:\n",
        "        y = int(v[i]%n)\n",
        "\n",
        "      dist = np.sqrt((x-dados[:, 0])**2+(y-dados[:, 1])**2)\n",
        "\n",
        "      if 0 in dist:\n",
        "        ind = np.where(dist == 0)\n",
        "        resultado[x,y] = dados[ind[0][0],2]\n",
        "      else:\n",
        "        resultado[x,y] = np.sum((1/dist**p)*dados[:,2])/np.sum(1/dist**p)\n",
        "\n",
        "      dados = np.append(dados,[[x,y,resultado[x,y]]],axis = 0)\n",
        "\n",
        "    return resultado\n",
        "\n",
        "dados = [[1,1,7],[2,0,3],[2,2,4],[14,13,10],[13,0,50],[10,7,1]]\n",
        "blocos = (20,20)\n",
        "x = SequentialGaussianSimulation(dados,blocos,2)\n",
        "\n",
        "print(x)\n",
        "\n",
        "ax = sns.heatmap(x, linewidth=0.5)\n",
        "plt.show()\n",
        "plt.imshow(x, cmap='hot', interpolation='nearest')\n",
        "plt.show()"
      ],
      "execution_count": 82,
      "outputs": [
        {
          "output_type": "stream",
          "text": [
            "[[ 7.69785011  7.86893073  8.79478619  8.58659223  9.25382843  9.4590023\n",
            "   9.65123272 10.10071898  9.45309376  9.23644467  9.35356801 10.18286106\n",
            "  10.23928027 10.07096101  9.61914178 10.30202661 10.22025188 10.4038943\n",
            "  10.38715623 10.09198745]\n",
            " [ 5.35607623  7.          7.89115856  7.93999752  8.09199935  9.30024432\n",
            "   9.13820414 10.0805683   9.87221082  9.88749413  9.92403339  9.71933668\n",
            "  10.14112737  9.86202764  9.87658644 10.1785065  10.05657722 10.31674576\n",
            "  10.17498057 10.24245471]\n",
            " [ 3.          7.15435045  4.          5.71148054  9.21894347  9.76229983\n",
            "  10.01434045  9.82530547 10.00316918  9.81374414  9.88146648  9.36480581\n",
            "   9.73557433 10.13982669 10.19888816  9.93157924 10.32145888 10.35057925\n",
            "   9.70983294 10.2215825 ]\n",
            " [ 7.67414522  8.88028223  8.07562564  8.62043335  9.78062225  9.71430912\n",
            "  10.00139236 10.28153496 10.22163503 10.09437109 10.27478096  9.90329945\n",
            "   9.23034464  9.63871759  9.27484507 10.24508253 10.27958312 10.31183714\n",
            "  10.25980262 10.45096284]\n",
            " [10.28767701  7.68876039 10.25457506 10.41191681 10.43864975 10.06058602\n",
            "  10.3262569   9.86056984  9.02654185 10.47688745 10.45407671 10.20716714\n",
            "   9.12565141 10.0801817  10.24812886 10.26686587  9.97012857  9.75552386\n",
            "  10.31650824 10.48087709]\n",
            " [11.58537245 11.13087784 11.17455392 11.05553595 10.60230717  7.18877365\n",
            "  10.26217969 10.72296551 10.66727676 10.57826616 10.55726712  9.79958578\n",
            "  10.16977498  8.61754206 10.25198787 10.15957574 10.45785621 10.43167998\n",
            "  10.40789149 10.17873978]\n",
            " [12.79283394 13.05823995 12.39776168 11.83542207 11.56478648 11.15643563\n",
            "  10.92677476 10.90088001 10.89538727 10.60439506  9.89562045  9.87215429\n",
            "  10.44225074 10.37198453 10.10928904 10.45121356 10.42178714 10.50698451\n",
            "  10.45807613 10.06103742]\n",
            " [14.05070395 14.46405936 13.51205254 12.78949131 11.99760212 10.61886525\n",
            "  11.3473711   9.71729515 10.8403439  10.91742845 10.62014872 10.50020602\n",
            "  10.25052954 10.44279062 10.25436212 10.46883153  9.98499668 10.40844458\n",
            "  10.31917975 10.47527359]\n",
            " [15.7097339  16.83807757 14.59044492 13.51920794 12.63029978 11.15956062\n",
            "  11.54966647 11.14700301 10.94678486 10.98378357  9.90801152 10.75817193\n",
            "  10.70567044 10.37803802 10.6726019  10.58259729 10.53169763 10.62714375\n",
            "  10.52095973 10.42557985]\n",
            " [17.61710971 16.3132921  15.30462451 12.81952848 12.2653424  11.37917074\n",
            "  10.64410019 10.16891847 10.99519754 11.05150542 10.79385038 10.76533048\n",
            "  10.34037416 10.68682743 10.23642384 10.6495598  10.73203864 10.66135738\n",
            "  10.72492635 10.61756119]\n",
            " [20.73732121 19.41254434 16.94268936 14.34480281 13.7591813  10.79870039\n",
            "  11.65241254  1.         10.25608969  9.8754303  11.05335179 10.19701081\n",
            "  10.70664746 10.6613124  10.58999801 10.72397141 10.6395667  10.3751201\n",
            "  10.6947778  10.80435172]\n",
            " [33.08919821 21.46804394 18.5064794  16.31990888 14.02481124 11.74956353\n",
            "  12.76865728 11.72462979 11.69688497 11.51249331 11.41870072 10.93159561\n",
            "  10.92396039 10.31375967 10.8782725   9.80618864 10.58608442 10.60950019\n",
            "  10.75631281 10.6406602 ]\n",
            " [29.63540891 24.90147655 23.29733088 19.9771443  16.04046726 14.77359357\n",
            "  13.69969844 11.84522921 12.12837696 11.94572651 11.54477364 11.2664066\n",
            "  11.19771965 10.89660111 10.78782393 10.47534689 10.79974753 10.36500827\n",
            "  10.76827398 10.89443906]\n",
            " [50.         45.21266446 23.52668872 24.22647531 17.96674346 15.21385254\n",
            "  14.28863949 13.07870424 11.08719393 12.21261099 11.81916164 10.8087074\n",
            "  11.0336855  10.50607094 10.96807022 10.52601921 10.6338335  10.34116594\n",
            "  10.46725543 10.91827127]\n",
            " [38.26661291 30.19571812 27.88070233 22.52993129 17.5472832  16.52323144\n",
            "  14.560789   13.18102913 12.89970856 12.30125826 12.03232491 11.62993867\n",
            "  11.34526513 10.         10.39626525 10.35886734 10.82101511 10.87874695\n",
            "  10.52930847 10.90001454]\n",
            " [25.6953491  26.46199212 21.1167652  20.65226135 18.66781493 16.34848902\n",
            "  14.80316981 13.70188298 13.10927283 12.42675542 12.01119192 11.03564023\n",
            "  11.27128507 11.26452731 10.67561829 10.80238387 10.9107974  11.00725244\n",
            "  10.71161421 10.73965029]\n",
            " [26.71100201 22.02029512 20.52431983 19.00882321 17.68129925 16.10061098\n",
            "  14.87225392 14.07114272 13.12367534 12.67924517 11.72532374 11.37823558\n",
            "  11.66620563 11.41613198 11.01312039 10.70112753 10.95776692 11.01838345\n",
            "  10.66873386 10.85796109]\n",
            " [20.91703138 21.42867498 19.9181027  17.94972646 17.01345224 15.88545459\n",
            "  14.87009737 13.69287165 13.30102535 12.50344186 11.85339136 11.88295887\n",
            "  11.45217257 11.53410971 11.3109687  10.25807737 10.92779417 10.91291649\n",
            "  10.8543208  10.76396639]\n",
            " [19.69888199 20.22684137 19.64461177 18.06885486 16.41313422 15.48280392\n",
            "  14.67501688 14.02215586 13.3438016  12.81219755 12.27943283 11.82850699\n",
            "  11.45216361 11.4642826  10.81828081 11.19874181 11.04166921 11.0288725\n",
            "  10.68410002 11.05744038]\n",
            " [18.92117472 18.0958405  17.68467589 17.34962573 16.14684352 15.4357841\n",
            "  14.56987371 13.89038645 13.29544988 12.68313346 11.89049834 12.15326063\n",
            "  11.33450172 11.63984768 10.98093542 11.18823573 11.18648398 11.19874667\n",
            "  10.92427524 10.80020674]]\n"
          ],
          "name": "stdout"
        },
        {
          "output_type": "display_data",
          "data": {
            "image/png": "[encoded data removed]",
            "text/plain": [
              "<Figure size 432x288 with 2 Axes>"
            ]
          },
          "metadata": {
            "tags": []
          }
        },
        {
          "output_type": "display_data",
          "data": {
            "image/png": "[encoded data removed]",
            "text/plain": [
              "<Figure size 432x288 with 1 Axes>"
            ]
          },
          "metadata": {
            "tags": []
          }
        }
      ]
    }
  ]
}